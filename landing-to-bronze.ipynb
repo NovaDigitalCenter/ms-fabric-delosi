{
 "cells": [
  {
   "cell_type": "code",
   "execution_count": null,
   "id": "465161d2",
   "metadata": {
    "vscode": {
     "languageId": "plaintext"
    }
   },
   "outputs": [],
   "source": [
    "# =====================================\n",
    "# 1. Configuración inicial\n",
    "# =====================================\n",
    "\n",
    "# Importamos funciones necesarias de PySpark\n",
    "from pyspark.sql.functions import col, trim   # col() para referenciar columnas, trim() para limpiar espacios\n",
    "from pyspark.sql.types import IntegerType, DoubleType  # Para convertir tipos de datos\n",
    "\n",
    "# Definimos la ruta del archivo en la capa Landing dentro del Lakehouse\n",
    "landing_path = \"Files/landing/sap/persona/clientes.csv\"\n",
    "\n",
    "# Definimos el nombre de la tabla destino en la capa Bronze\n",
    "bronze_table = \"brz_personas\""
   ]
  },
  {
   "cell_type": "code",
   "execution_count": null,
   "id": "cb319f3a",
   "metadata": {
    "vscode": {
     "languageId": "plaintext"
    }
   },
   "outputs": [],
   "source": [
    "# =====================================\n",
    "# 2. Lectura de datos desde Landing\n",
    "# =====================================\n",
    "print(landing_path)\n",
    "df_landing = (\n",
    "    spark.read               # Iniciamos la lectura con Spark\n",
    "    .option(\"header\", True)  # Indicamos que el CSV tiene cabecera\n",
    "    .option(\"inferSchema\", True)  # Pedimos a Spark que infiera automáticamente los tipos de datos\n",
    "    .csv(landing_path)       # Especificamos la ruta del archivo en Landing\n",
    ")\n",
    "\n",
    "# Mostramos la cantidad total de registros leídos desde Landing\n",
    "print(\"Total registros landing:\", df_landing.count())\n",
    "\n",
    "# Mostramos una vista previa de los primeros 5 registros\n",
    "display(df_landing)"
   ]
  },
  {
   "cell_type": "code",
   "execution_count": null,
   "id": "3152799e",
   "metadata": {
    "vscode": {
     "languageId": "plaintext"
    }
   },
   "outputs": [],
   "source": [
    "# =====================================\n",
    "# 3. Normalización básica para Bronze\n",
    "# =====================================\n",
    "\n",
    "df_bronze = (\n",
    "    df_landing\n",
    "    # Limpiamos espacios en columnas de texto\n",
    "    .withColumn(\"Nombre\", trim(col(\"Nombre\")))     \n",
    "    .withColumn(\"Apellido\", trim(col(\"Apellido\"))) \n",
    "    .withColumn(\"Ciudad\", trim(col(\"Ciudad\")))     \n",
    "    .withColumn(\"Pais\", trim(col(\"Pais\")))         \n",
    "\n",
    "    # Convertimos campos numéricos a su tipo correcto\n",
    "    .withColumn(\"Edad\", col(\"Edad\").cast(IntegerType())) \n",
    "    .withColumn(\"FrecuenciaVisita\", col(\"FrecuenciaVisita\").cast(IntegerType()))\n",
    "    .withColumn(\"TicketPromedio\", col(\"TicketPromedio\").cast(DoubleType()))\n",
    "    .withColumn(\"PuntosAcumulados\", col(\"PuntosAcumulados\").cast(IntegerType()))\n",
    "\n",
    "    # Aseguramos que los correos estén en texto y sin espacios extra\n",
    "    .withColumn(\"Email\", trim(col(\"Email\")).cast(\"string\"))\n",
    ")\n",
    "\n",
    "# Mostramos una vista previa de los primeros 5 registros ya normalizados\n",
    "display(df_bronze)"
   ]
  },
  {
   "cell_type": "code",
   "execution_count": null,
   "id": "a848735e",
   "metadata": {
    "vscode": {
     "languageId": "plaintext"
    }
   },
   "outputs": [],
   "source": [
    "# =====================================\n",
    "# 4. Escritura en la capa Bronze\n",
    "# =====================================\n",
    "\n",
    "(\n",
    "    df_bronze.write          # Iniciamos la escritura\n",
    "    .format(\"delta\")         # Usamos formato Delta para trazabilidad y versionado\n",
    "    .mode(\"overwrite\")       # Sobrescribimos si la tabla ya existe\n",
    "    .saveAsTable(bronze_table)  # Guardamos como tabla en la capa Bronze\n",
    ")\n",
    "\n",
    "# Confirmamos que la carga fue exitosa\n",
    "print(f\"Datos cargados en Bronze: {bronze_table}\")"
   ]
  },
  {
   "cell_type": "code",
   "execution_count": null,
   "id": "789aea47",
   "metadata": {
    "vscode": {
     "languageId": "plaintext"
    }
   },
   "outputs": [],
   "source": [
    "# =====================================\n",
    "# A. Inspección rápida del entorno\n",
    "# =====================================\n",
    "# Muestra catálogos disponibles (en Fabric suele usarse 'spark_catalog')\n",
    "spark.sql(\"SHOW CATALOGS\").show(truncate=False)\n",
    "\n",
    "\n",
    "# Muestra las bases de datos/esquemas disponibles\n",
    "spark.sql(\"SHOW DATABASES\").show(truncate=False)\n",
    "\n",
    "# Muestra la base de datos actual\n",
    "spark.sql(\"SELECT current_database()\").show()\n",
    "    "
   ]
  }
 ],
 "metadata": {
  "language_info": {
   "name": "python"
  }
 },
 "nbformat": 4,
 "nbformat_minor": 5
}

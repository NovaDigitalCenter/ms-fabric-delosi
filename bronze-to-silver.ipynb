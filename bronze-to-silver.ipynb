{
 "cells": [
  {
   "cell_type": "code",
   "execution_count": null,
   "id": "631f9930",
   "metadata": {
    "vscode": {
     "languageId": "plaintext"
    }
   },
   "outputs": [],
   "source": [
    "# =====================================\n",
    "# 1) Lectura desde Bronze\n",
    "# =====================================\n",
    "from pyspark.sql import functions as F\n",
    "from pyspark.sql.window import Window\n",
    "\n",
    "# Leemos la tabla creada en Bronze (dentro del Lakehouse)\n",
    "df_bz = spark.table(\"bronze_personas\")  # <-- ajusta si tu nombre difiere\n",
    "\n",
    "# Vista rápida\n",
    "print(\"Registros en Bronze:\", df_bz.count())\n",
    "df_bz.display(5)\n"
   ]
  },
  {
   "cell_type": "code",
   "execution_count": null,
   "id": "63989157",
   "metadata": {
    "vscode": {
     "languageId": "plaintext"
    }
   },
   "outputs": [],
   "source": [
    "# =====================================\n",
    "# 2) Reglas de limpieza / estandarización (Silver)\n",
    "#    - Normaliza textos y formatos\n",
    "#    - Valida email / documento / teléfono\n",
    "#    - Corrige rangos numéricos\n",
    "# =====================================\n",
    "\n",
    "# Expresiones de validación\n",
    "EMAIL_REGEX = r\"^[A-Za-z0-9._%+-]+@[A-Za-z0-9.-]+\\.[A-Za-z]{2,}$\"\n",
    "DNI_REGEX   = r\"^[0-9]{8}$\"          # 8 dígitos\n",
    "CEL_REGEX   = r\"^9[0-9]{8}$\"         # 9 dígitos empezando en 9\n",
    "\n",
    "# Catálogo simple de normalización de país\n",
    "normalize_pais = F.when(F.lower(F.col(\"Pais\")).isin(\"peru\",\"perú\",\"pe\"), F.lit(\"PERU\")).otherwise(F.lit(None))\n",
    "\n",
    "# Catálogo “ciudad desconocida” si viene vacío\n",
    "normalize_ciudad = F.when(F.trim(F.col(\"Ciudad\"))==\"\", None).otherwise(F.initcap(F.trim(F.col(\"Ciudad\"))))\n",
    "\n",
    "# Campos validados / normalizados\n",
    "df_sv = (\n",
    "    df_bz\n",
    "    # --- Limpieza básica de espacios y casing ---\n",
    "    .withColumn(\"Nombre\" , F.initcap(F.trim(F.col(\"Nombre\"))))\n",
    "    .withColumn(\"Apellido\", F.initcap(F.trim(F.col(\"Apellido\"))))\n",
    "    .withColumn(\"Email\"  , F.lower(F.trim(F.col(\"Email\"))))\n",
    "    .withColumn(\"Pais\"   , normalize_pais)\n",
    "    .withColumn(\"Ciudad\" , normalize_ciudad)\n",
    "\n",
    "    # --- Validaciones de identificadores ---\n",
    "    .withColumn(\"Documento\", F.when(F.col(\"Documento\").rlike(DNI_REGEX), F.col(\"Documento\")).otherwise(F.lit(None)))\n",
    "    .withColumn(\"Telefono\" , F.when(F.col(\"Telefono\").rlike(CEL_REGEX), F.col(\"Telefono\")).otherwise(F.lit(None)))\n",
    "    .withColumn(\"Email\"    , F.when(F.col(\"Email\").rlike(EMAIL_REGEX), F.col(\"Email\")).otherwise(F.lit(None)))\n",
    "\n",
    "    # --- Rangos y outliers ---\n",
    "    .withColumn(\"Edad\", F.when((F.col(\"Edad\")>=16) & (F.col(\"Edad\")<=100), F.col(\"Edad\")).otherwise(F.lit(None)))\n",
    "    .withColumn(\"FrecuenciaVisita\", F.when(F.col(\"FrecuenciaVisita\")>=0, F.col(\"FrecuenciaVisita\")).otherwise(F.lit(None)))\n",
    "    .withColumn(\"TicketPromedio\",   F.when(F.col(\"TicketPromedio\")>0, F.col(\"TicketPromedio\")).otherwise(F.lit(None)))\n",
    "    .withColumn(\"PuntosAcumulados\", F.when(F.col(\"PuntosAcumulados\")>=0, F.col(\"PuntosAcumulados\")).otherwise(F.lit(None)))\n",
    "\n",
    "    # --- Normalización de género y estado ---\n",
    "    .withColumn(\"Genero\", F.when(F.col(\"Genero\").isin(\"M\",\"F\"), F.col(\"Genero\")).otherwise(F.lit(None)))\n",
    "    .withColumn(\"EstadoCliente\", F.when(F.trim(F.col(\"EstadoCliente\"))==\"\", None).otherwise(F.col(\"EstadoCliente\")))\n",
    "\n",
    "    # --- Fechas a tipo date si vinieron como string ---\n",
    "    .withColumn(\"FechaRegistro\", F.to_date(\"FechaRegistro\"))\n",
    "    .withColumn(\"UltimaCompra\" , F.to_date(\"UltimaCompra\"))\n",
    ")\n",
    "\n",
    "df_sv.display(5)\n"
   ]
  },
  {
   "cell_type": "code",
   "execution_count": null,
   "id": "db7406c5",
   "metadata": {
    "vscode": {
     "languageId": "plaintext"
    }
   },
   "outputs": [],
   "source": [
    "# =====================================\n",
    "# 3) Deduplicación (Silver)\n",
    "#    Regla: clave de negocio = coalesce(Documento, Email, Telefono, IdCliente)\n",
    "#    Conserva el registro con fecha más reciente (UltimaCompra/FechaRegistro)\n",
    "# =====================================\n",
    "\n",
    "# Clave de negocio combinada (prioridad: documento > email > teléfono > id)\n",
    "df_keyed = df_sv.withColumn(\n",
    "    \"BK_CLIENTE\",\n",
    "    F.coalesce(F.col(\"Documento\"), F.col(\"Email\"), F.col(\"Telefono\"), F.col(\"IdCliente\").cast(\"string\"))\n",
    ")\n",
    "\n",
    "# Orden de \"recencia\"\n",
    "order_cols = [\n",
    "    F.col(\"UltimaCompra\").desc_nulls_last(),\n",
    "    F.col(\"FechaRegistro\").desc_nulls_last(),\n",
    "    F.col(\"IdCliente\").desc()  # desempate\n",
    "]\n",
    "\n",
    "# Window para elegir el registro más reciente por BK\n",
    "w = Window.partitionBy(\"BK_CLIENTE\").orderBy(*order_cols)\n",
    "\n",
    "df_sv_dedup = (df_keyed\n",
    "               .withColumn(\"rn\", F.row_number().over(w))\n",
    "               .filter(F.col(\"rn\")==1)\n",
    "               .drop(\"rn\"))\n",
    "\n",
    "print(\"Registros tras deduplicación:\", df_sv_dedup.count())\n",
    "display(df_sv_dedup)\n"
   ]
  },
  {
   "cell_type": "code",
   "execution_count": null,
   "id": "45077100",
   "metadata": {
    "vscode": {
     "languageId": "plaintext"
    }
   },
   "outputs": [],
   "source": [
    "# =====================================\n",
    "# 4) Guardar Silver\n",
    "#    Convención: prefijo 'silver_' en el nombre de la tabla\n",
    "# =====================================\n",
    "\n",
    "(df_sv_dedup.write\n",
    " .format(\"delta\")\n",
    " .mode(\"overwrite\")\n",
    " .saveAsTable(\"silver_personas\"))\n",
    "\n",
    "print(\"✅ Silver creado: silver_personas\")\n"
   ]
  }
 ],
 "metadata": {
  "language_info": {
   "name": "python"
  }
 },
 "nbformat": 4,
 "nbformat_minor": 5
}

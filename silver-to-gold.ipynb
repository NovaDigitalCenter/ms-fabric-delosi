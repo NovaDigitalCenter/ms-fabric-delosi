{
 "cells": [
  {
   "cell_type": "code",
   "execution_count": null,
   "id": "15e93889",
   "metadata": {
    "vscode": {
     "languageId": "plaintext"
    }
   },
   "outputs": [],
   "source": [
    "# =====================================\n",
    "# 1) Leer Silver\n",
    "# =====================================\n",
    "from pyspark.sql import functions as F\n",
    "\n",
    "df_silver = spark.table(\"silver_personas\")\n",
    "\n",
    "print(\"Registros en Silver:\", df_silver.count())\n",
    "display(df_silver)"
   ]
  },
  {
   "cell_type": "code",
   "execution_count": null,
   "id": "2ddb1152",
   "metadata": {
    "vscode": {
     "languageId": "plaintext"
    }
   },
   "outputs": [],
   "source": [
    "# =====================================\n",
    "# 2) Derivar atributos de segmentación y construir dimensión\n",
    "#    - Surrogate Key: entero estable a partir de BK usando xxhash64\n",
    "#    - Segmentos de Frecuencia / Ticket\n",
    "# =====================================\n",
    "\n",
    "# Surrogate Key: entero positivo a partir de la BK\n",
    "sk = F.abs(F.xxhash64(F.col(\"BK_CLIENTE\"))) + F.lit(1)\n",
    "\n",
    "# Segmentos (puedes ajustar los umbrales a tu negocio)\n",
    "seg_frec = (\n",
    "    F.when(F.col(\"FrecuenciaVisita\") >= 12, \"ALTA\")\n",
    "     .when(F.col(\"FrecuenciaVisita\") >= 6, \"MEDIA\")\n",
    "     .when(F.col(\"FrecuenciaVisita\") >= 1, \"BAJA\")\n",
    "     .otherwise(\"NULA\")\n",
    ")\n",
    "\n",
    "seg_ticket = (\n",
    "    F.when(F.col(\"TicketPromedio\") >= 60, \"ALTO\")\n",
    "     .when(F.col(\"TicketPromedio\") >= 30, \"MEDIO\")\n",
    "     .when(F.col(\"TicketPromedio\") > 0,   \"BAJO\")\n",
    "     .otherwise(\"SIN_DATO\")\n",
    ")\n",
    "\n",
    "dim_cliente = (\n",
    "    df_silver.select(\n",
    "        sk.alias(\"SK_CLIENTE\"),                 # surrogate key\n",
    "        F.col(\"BK_CLIENTE\"),                    # clave de negocio\n",
    "        F.col(\"IdCliente\").alias(\"ID_ORIGEN\"),  # id fuente si aplica\n",
    "        F.col(\"Documento\"),\n",
    "        F.col(\"Email\"),\n",
    "        F.col(\"Telefono\"),\n",
    "        F.col(\"Nombre\"),\n",
    "        F.col(\"Apellido\"),\n",
    "        F.col(\"Genero\"),\n",
    "        F.col(\"Edad\"),\n",
    "        F.col(\"Pais\"),\n",
    "        F.col(\"Ciudad\"),\n",
    "        F.col(\"MarcaPreferida\"),\n",
    "        F.col(\"FechaRegistro\"),\n",
    "        F.col(\"UltimaCompra\"),\n",
    "        F.col(\"FrecuenciaVisita\"),\n",
    "        F.col(\"TicketPromedio\"),\n",
    "        F.col(\"PuntosAcumulados\"),\n",
    "        seg_frec.alias(\"SegmentoFrecuencia\"),\n",
    "        seg_ticket.alias(\"SegmentoTicket\"),\n",
    "        F.col(\"EstadoCliente\"),\n",
    "        F.col(\"Observaciones\")\n",
    "    )\n",
    "    # Type-1: sobreescribe en cada refresco; si quisieras SCD2, aquí harías el merge con vigencias\n",
    ")\n",
    "\n",
    "display(dim_cliente)"
   ]
  },
  {
   "cell_type": "code",
   "execution_count": null,
   "id": "7556a3eb",
   "metadata": {
    "vscode": {
     "languageId": "plaintext"
    }
   },
   "outputs": [],
   "source": [
    "# =====================================\n",
    "# 3) Guardar GOLD – Dimensión Cliente\n",
    "# =====================================\n",
    "\n",
    "(dim_cliente.write\n",
    " .format(\"delta\")\n",
    " .mode(\"overwrite\")\n",
    " .saveAsTable(\"gold_dim_cliente\"))\n",
    "\n",
    "print(\"🏅 GOLD creada: gold_dim_cliente (dimensión cliente, Type-1)\")\n"
   ]
  },
  {
   "cell_type": "code",
   "execution_count": null,
   "id": "77bf6b4c",
   "metadata": {
    "vscode": {
     "languageId": "plaintext"
    }
   },
   "outputs": [],
   "source": [
    "-- Ejemplo de agregación (analítica): Clientes por Marca x Ciudad"
   ]
  },
  {
   "cell_type": "code",
   "execution_count": null,
   "id": "928d179c",
   "metadata": {
    "vscode": {
     "languageId": "plaintext"
    }
   },
   "outputs": [],
   "source": [
    "# =====================================\n",
    "# 4) Agregado Gold (ejercicio analítico)\n",
    "#    - Cuenta de clientes por MarcaPreferida y Ciudad\n",
    "#    - TicketPromedio medio y Puntos promedio por grupo\n",
    "# =====================================\n",
    "\n",
    "\n",
    "gold_agg = (\n",
    "    dim_cliente\n",
    "    .groupBy(\"MarcaPreferida\", \"Ciudad\")\n",
    "    .agg(\n",
    "        F.countDistinct(\"SK_CLIENTE\").alias(\"Clientes\"),\n",
    "        F.round(F.avg(\"TicketPromedio\"),2).alias(\"TicketPromedioProm\"),\n",
    "        F.round(F.avg(\"PuntosAcumulados\"),2).alias(\"PuntosProm\")\n",
    "    )\n",
    "    .orderBy(F.col(\"Clientes\").desc_nulls_last())\n",
    ")\n",
    "\n",
    "display(gold_agg)\n",
    "\n"
   ]
  },
  {
   "cell_type": "code",
   "execution_count": null,
   "id": "38eea8a2",
   "metadata": {
    "vscode": {
     "languageId": "plaintext"
    }
   },
   "outputs": [],
   "source": [
    "# =====================================\n",
    "# 5) Guardar GOLD – Agregado\n",
    "# =====================================\n",
    "\n",
    "(gold_agg.write\n",
    " .format(\"delta\")\n",
    " .mode(\"overwrite\")\n",
    " .saveAsTable(\"gold_clientes_marca_ciudad\"))\n",
    "\n",
    "print(\"🏅 GOLD creada: gold_clientes_marca_ciudad (agregado analítico)\")\n"
   ]
  }
 ],
 "metadata": {
  "language_info": {
   "name": "python"
  }
 },
 "nbformat": 4,
 "nbformat_minor": 5
}
